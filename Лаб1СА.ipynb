https://colab.research.google.com/drive/1hxPmxZ6j5oFZR7Bc45ddaKauPzP8m6MR?usp=sharing
